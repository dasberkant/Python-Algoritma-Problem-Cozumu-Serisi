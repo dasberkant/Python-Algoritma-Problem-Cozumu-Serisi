{
 "cells": [
  {
   "cell_type": "code",
   "execution_count": null,
   "metadata": {},
   "outputs": [],
   "source": [
    "you have to create all permutations of an input string and remove duplicates, if present.\n",
    "This means, you have to shuffle all letters from the input in all possible orders.\n",
    "Also note that, your permutations' lengths should be equal to length of parameter, that is, string.\n",
    "\n",
    "\n",
    "permutations('a'); # ['a']\n",
    "permutations('ab'); # ['ab', 'ba']\n",
    "permutations('aabb'); # ['aabb', 'abab', 'abba', 'baab', 'baba', 'bbaa']\n"
   ]
  },
  {
   "cell_type": "code",
   "execution_count": 15,
   "metadata": {},
   "outputs": [
    {
     "data": {
      "text/plain": [
       "['Ideal',\n",
       " 'Idela',\n",
       " 'Idael',\n",
       " 'Idale',\n",
       " 'Idlea',\n",
       " 'Idlae',\n",
       " 'Iedal',\n",
       " 'Iedla',\n",
       " 'Ieadl',\n",
       " 'Ieald',\n",
       " 'Ielda',\n",
       " 'Ielad',\n",
       " 'Iadel',\n",
       " 'Iadle',\n",
       " 'Iaedl',\n",
       " 'Iaeld',\n",
       " 'Ialde',\n",
       " 'Ialed',\n",
       " 'Ildea',\n",
       " 'Ildae',\n",
       " 'Ileda',\n",
       " 'Ilead',\n",
       " 'Ilade',\n",
       " 'Ilaed',\n",
       " 'dIeal',\n",
       " 'dIela',\n",
       " 'dIael',\n",
       " 'dIale',\n",
       " 'dIlea',\n",
       " 'dIlae',\n",
       " 'deIal',\n",
       " 'deIla',\n",
       " 'deaIl',\n",
       " 'dealI',\n",
       " 'delIa',\n",
       " 'delaI',\n",
       " 'daIel',\n",
       " 'daIle',\n",
       " 'daeIl',\n",
       " 'daelI',\n",
       " 'dalIe',\n",
       " 'daleI',\n",
       " 'dlIea',\n",
       " 'dlIae',\n",
       " 'dleIa',\n",
       " 'dleaI',\n",
       " 'dlaIe',\n",
       " 'dlaeI',\n",
       " 'eIdal',\n",
       " 'eIdla',\n",
       " 'eIadl',\n",
       " 'eIald',\n",
       " 'eIlda',\n",
       " 'eIlad',\n",
       " 'edIal',\n",
       " 'edIla',\n",
       " 'edaIl',\n",
       " 'edalI',\n",
       " 'edlIa',\n",
       " 'edlaI',\n",
       " 'eaIdl',\n",
       " 'eaIld',\n",
       " 'eadIl',\n",
       " 'eadlI',\n",
       " 'ealId',\n",
       " 'ealdI',\n",
       " 'elIda',\n",
       " 'elIad',\n",
       " 'eldIa',\n",
       " 'eldaI',\n",
       " 'elaId',\n",
       " 'eladI',\n",
       " 'aIdel',\n",
       " 'aIdle',\n",
       " 'aIedl',\n",
       " 'aIeld',\n",
       " 'aIlde',\n",
       " 'aIled',\n",
       " 'adIel',\n",
       " 'adIle',\n",
       " 'adeIl',\n",
       " 'adelI',\n",
       " 'adlIe',\n",
       " 'adleI',\n",
       " 'aeIdl',\n",
       " 'aeIld',\n",
       " 'aedIl',\n",
       " 'aedlI',\n",
       " 'aelId',\n",
       " 'aeldI',\n",
       " 'alIde',\n",
       " 'alIed',\n",
       " 'aldIe',\n",
       " 'aldeI',\n",
       " 'aleId',\n",
       " 'aledI',\n",
       " 'lIdea',\n",
       " 'lIdae',\n",
       " 'lIeda',\n",
       " 'lIead',\n",
       " 'lIade',\n",
       " 'lIaed',\n",
       " 'ldIea',\n",
       " 'ldIae',\n",
       " 'ldeIa',\n",
       " 'ldeaI',\n",
       " 'ldaIe',\n",
       " 'ldaeI',\n",
       " 'leIda',\n",
       " 'leIad',\n",
       " 'ledIa',\n",
       " 'ledaI',\n",
       " 'leaId',\n",
       " 'leadI',\n",
       " 'laIde',\n",
       " 'laIed',\n",
       " 'ladIe',\n",
       " 'ladeI',\n",
       " 'laeId',\n",
       " 'laedI']"
      ]
     },
     "execution_count": 15,
     "metadata": {},
     "output_type": "execute_result"
    }
   ],
   "source": [
    "from itertools import permutations \n",
    "\n",
    "def permutation(string):\n",
    "    result_list = list()\n",
    "    \n",
    "    for i in permutations(string,len(string)):\n",
    "        x = \"\".join(i)\n",
    "        \n",
    "        result_list.append(x)\n",
    "        \n",
    "    return result_list\n",
    "\n",
    "permutation(\"Ideal\")\n",
    "    "
   ]
  },
  {
   "cell_type": "code",
   "execution_count": null,
   "metadata": {},
   "outputs": [],
   "source": []
  },
  {
   "cell_type": "code",
   "execution_count": null,
   "metadata": {},
   "outputs": [],
   "source": []
  },
  {
   "cell_type": "code",
   "execution_count": null,
   "metadata": {},
   "outputs": [],
   "source": []
  },
  {
   "cell_type": "code",
   "execution_count": 13,
   "metadata": {},
   "outputs": [
    {
     "name": "stdout",
     "output_type": "stream",
     "text": [
      "[('I', 'd', 'e'), ('I', 'd', 'a'), ('I', 'd', 'l'), ('I', 'e', 'd'), ('I', 'e', 'a'), ('I', 'e', 'l'), ('I', 'a', 'd'), ('I', 'a', 'e'), ('I', 'a', 'l'), ('I', 'l', 'd'), ('I', 'l', 'e'), ('I', 'l', 'a'), ('d', 'I', 'e'), ('d', 'I', 'a'), ('d', 'I', 'l'), ('d', 'e', 'I'), ('d', 'e', 'a'), ('d', 'e', 'l'), ('d', 'a', 'I'), ('d', 'a', 'e'), ('d', 'a', 'l'), ('d', 'l', 'I'), ('d', 'l', 'e'), ('d', 'l', 'a'), ('e', 'I', 'd'), ('e', 'I', 'a'), ('e', 'I', 'l'), ('e', 'd', 'I'), ('e', 'd', 'a'), ('e', 'd', 'l'), ('e', 'a', 'I'), ('e', 'a', 'd'), ('e', 'a', 'l'), ('e', 'l', 'I'), ('e', 'l', 'd'), ('e', 'l', 'a'), ('a', 'I', 'd'), ('a', 'I', 'e'), ('a', 'I', 'l'), ('a', 'd', 'I'), ('a', 'd', 'e'), ('a', 'd', 'l'), ('a', 'e', 'I'), ('a', 'e', 'd'), ('a', 'e', 'l'), ('a', 'l', 'I'), ('a', 'l', 'd'), ('a', 'l', 'e'), ('l', 'I', 'd'), ('l', 'I', 'e'), ('l', 'I', 'a'), ('l', 'd', 'I'), ('l', 'd', 'e'), ('l', 'd', 'a'), ('l', 'e', 'I'), ('l', 'e', 'd'), ('l', 'e', 'a'), ('l', 'a', 'I'), ('l', 'a', 'd'), ('l', 'a', 'e')]\n"
     ]
    }
   ],
   "source": [
    "string = \"Ideal\"\n",
    "from itertools import permutations\n",
    "\n",
    "print(list(permutations(string,3)))"
   ]
  },
  {
   "cell_type": "code",
   "execution_count": null,
   "metadata": {},
   "outputs": [],
   "source": []
  },
  {
   "cell_type": "code",
   "execution_count": null,
   "metadata": {},
   "outputs": [],
   "source": []
  },
  {
   "cell_type": "code",
   "execution_count": null,
   "metadata": {},
   "outputs": [],
   "source": []
  },
  {
   "cell_type": "code",
   "execution_count": null,
   "metadata": {},
   "outputs": [],
   "source": []
  },
  {
   "cell_type": "code",
   "execution_count": null,
   "metadata": {},
   "outputs": [],
   "source": []
  },
  {
   "cell_type": "code",
   "execution_count": null,
   "metadata": {},
   "outputs": [],
   "source": []
  },
  {
   "cell_type": "code",
   "execution_count": null,
   "metadata": {},
   "outputs": [],
   "source": []
  },
  {
   "cell_type": "code",
   "execution_count": null,
   "metadata": {},
   "outputs": [],
   "source": []
  },
  {
   "cell_type": "code",
   "execution_count": null,
   "metadata": {},
   "outputs": [],
   "source": []
  },
  {
   "cell_type": "code",
   "execution_count": null,
   "metadata": {},
   "outputs": [],
   "source": []
  },
  {
   "cell_type": "code",
   "execution_count": null,
   "metadata": {},
   "outputs": [],
   "source": []
  },
  {
   "cell_type": "code",
   "execution_count": null,
   "metadata": {},
   "outputs": [],
   "source": []
  },
  {
   "cell_type": "code",
   "execution_count": null,
   "metadata": {},
   "outputs": [],
   "source": []
  },
  {
   "cell_type": "code",
   "execution_count": null,
   "metadata": {},
   "outputs": [],
   "source": []
  },
  {
   "cell_type": "code",
   "execution_count": null,
   "metadata": {},
   "outputs": [],
   "source": []
  },
  {
   "cell_type": "code",
   "execution_count": null,
   "metadata": {},
   "outputs": [],
   "source": []
  },
  {
   "cell_type": "code",
   "execution_count": null,
   "metadata": {},
   "outputs": [],
   "source": []
  },
  {
   "cell_type": "code",
   "execution_count": null,
   "metadata": {},
   "outputs": [],
   "source": []
  },
  {
   "cell_type": "code",
   "execution_count": 5,
   "metadata": {},
   "outputs": [
    {
     "name": "stdout",
     "output_type": "stream",
     "text": [
      "[('I', 'd'), ('I', 'e'), ('I', 'a'), ('I', 'l'), ('d', 'I'), ('d', 'e'), ('d', 'a'), ('d', 'l'), ('e', 'I'), ('e', 'd'), ('e', 'a'), ('e', 'l'), ('a', 'I'), ('a', 'd'), ('a', 'e'), ('a', 'l'), ('l', 'I'), ('l', 'd'), ('l', 'e'), ('l', 'a')]\n"
     ]
    }
   ],
   "source": [
    "from itertools import permutations\n",
    "string = \"Ideal\"\n",
    "print(list(permutations(string,2)))"
   ]
  },
  {
   "cell_type": "code",
   "execution_count": null,
   "metadata": {},
   "outputs": [],
   "source": []
  },
  {
   "cell_type": "code",
   "execution_count": null,
   "metadata": {},
   "outputs": [],
   "source": []
  },
  {
   "cell_type": "code",
   "execution_count": null,
   "metadata": {},
   "outputs": [],
   "source": []
  },
  {
   "cell_type": "code",
   "execution_count": null,
   "metadata": {},
   "outputs": [],
   "source": []
  },
  {
   "cell_type": "code",
   "execution_count": null,
   "metadata": {},
   "outputs": [],
   "source": []
  },
  {
   "cell_type": "code",
   "execution_count": null,
   "metadata": {},
   "outputs": [],
   "source": []
  },
  {
   "cell_type": "code",
   "execution_count": null,
   "metadata": {},
   "outputs": [],
   "source": []
  },
  {
   "cell_type": "code",
   "execution_count": null,
   "metadata": {},
   "outputs": [],
   "source": []
  },
  {
   "cell_type": "code",
   "execution_count": null,
   "metadata": {},
   "outputs": [],
   "source": []
  },
  {
   "cell_type": "code",
   "execution_count": null,
   "metadata": {},
   "outputs": [],
   "source": []
  },
  {
   "cell_type": "code",
   "execution_count": 2,
   "metadata": {},
   "outputs": [
    {
     "data": {
      "text/plain": [
       "['Yuşa',\n",
       " 'Yuaş',\n",
       " 'Yşua',\n",
       " 'Yşau',\n",
       " 'Yauş',\n",
       " 'Yaşu',\n",
       " 'uYşa',\n",
       " 'uYaş',\n",
       " 'uşYa',\n",
       " 'uşaY',\n",
       " 'uaYş',\n",
       " 'uaşY',\n",
       " 'şYua',\n",
       " 'şYau',\n",
       " 'şuYa',\n",
       " 'şuaY',\n",
       " 'şaYu',\n",
       " 'şauY',\n",
       " 'aYuş',\n",
       " 'aYşu',\n",
       " 'auYş',\n",
       " 'auşY',\n",
       " 'aşYu',\n",
       " 'aşuY']"
      ]
     },
     "execution_count": 2,
     "metadata": {},
     "output_type": "execute_result"
    }
   ],
   "source": [
    "from itertools import permutations \n",
    "def permutation(string):\n",
    "    liste = list()\n",
    "    \n",
    "    for i in permutations(string,len(string)):\n",
    "        x = \"\".join(i)\n",
    "        liste.append(x)\n",
    "        \n",
    "    return liste\n",
    "    \n",
    "\n",
    "permutation(\"Yuşa\")\n",
    "        "
   ]
  },
  {
   "cell_type": "code",
   "execution_count": null,
   "metadata": {},
   "outputs": [],
   "source": []
  }
 ],
 "metadata": {
  "kernelspec": {
   "display_name": "Python 3",
   "language": "python",
   "name": "python3"
  },
  "language_info": {
   "codemirror_mode": {
    "name": "ipython",
    "version": 3
   },
   "file_extension": ".py",
   "mimetype": "text/x-python",
   "name": "python",
   "nbconvert_exporter": "python",
   "pygments_lexer": "ipython3",
   "version": "3.8.3"
  }
 },
 "nbformat": 4,
 "nbformat_minor": 4
}

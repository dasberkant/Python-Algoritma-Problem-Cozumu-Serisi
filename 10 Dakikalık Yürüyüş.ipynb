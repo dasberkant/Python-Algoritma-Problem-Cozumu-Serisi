{
 "cells": [
  {
   "cell_type": "code",
   "execution_count": null,
   "metadata": {},
   "outputs": [],
   "source": [
    "You live in the city of Cartesia where all roads are laid out in a perfect grid.\n",
    "You arrived ten minutes too early to an appointment, \n",
    "so you decided to take the opportunity to go for a short walk. \n",
    "The city provides its citizens with a Walk Generating App on their phones \n",
    "-- everytime you press the button it sends you an array of one-letter strings representing directions to walk \n",
    "(eg. ['n', 's', 'w', 'e']). \n",
    "You always walk only a single block for each letter (direction) \n",
    "and you know it takes you one minute to traverse one city block, \n",
    "so create a function that will return true if the walk the app gives you will take you exactly ten minutes \n",
    "(you don't want to be early or late!) and will, of course, return you to your starting point. Return false otherwise.\n",
    "\n"
   ]
  },
  {
   "cell_type": "code",
   "execution_count": 9,
   "metadata": {},
   "outputs": [],
   "source": [
    "def is_valid_walk(walk):\n",
    "    if(len(walk)==10):\n",
    "        if(walk.count(\"e\")==walk.count(\"w\")):\n",
    "            if(walk.count(\"n\")==walk.count(\"s\")):\n",
    "                return True\n",
    "            \n",
    "    return False   \n",
    "        \n",
    "    \n",
    "    "
   ]
  },
  {
   "cell_type": "code",
   "execution_count": 10,
   "metadata": {},
   "outputs": [
    {
     "data": {
      "text/plain": [
       "True"
      ]
     },
     "execution_count": 10,
     "metadata": {},
     "output_type": "execute_result"
    }
   ],
   "source": [
    "is_valid_walk([\"e\",\"s\",\"w\",\"e\",\"w\",\"n\",\"s\",\"n\",\"w\",\"e\"])"
   ]
  },
  {
   "cell_type": "code",
   "execution_count": 12,
   "metadata": {},
   "outputs": [
    {
     "data": {
      "text/plain": [
       "False"
      ]
     },
     "execution_count": 12,
     "metadata": {},
     "output_type": "execute_result"
    }
   ],
   "source": [
    "is_valid_walk([\"w\",\"s\",\"e\",\"s\",\"w\",\"s\",\"e\",\"w\"])"
   ]
  },
  {
   "cell_type": "code",
   "execution_count": null,
   "metadata": {},
   "outputs": [],
   "source": []
  },
  {
   "cell_type": "code",
   "execution_count": null,
   "metadata": {},
   "outputs": [],
   "source": []
  },
  {
   "cell_type": "code",
   "execution_count": null,
   "metadata": {},
   "outputs": [],
   "source": []
  },
  {
   "cell_type": "code",
   "execution_count": null,
   "metadata": {},
   "outputs": [],
   "source": []
  },
  {
   "cell_type": "code",
   "execution_count": null,
   "metadata": {},
   "outputs": [],
   "source": []
  },
  {
   "cell_type": "code",
   "execution_count": null,
   "metadata": {},
   "outputs": [],
   "source": []
  },
  {
   "cell_type": "code",
   "execution_count": null,
   "metadata": {},
   "outputs": [],
   "source": []
  },
  {
   "cell_type": "code",
   "execution_count": null,
   "metadata": {},
   "outputs": [],
   "source": []
  },
  {
   "cell_type": "code",
   "execution_count": null,
   "metadata": {},
   "outputs": [],
   "source": [
    "is_valid_walk([\"e\",\"s\",\"w\",\"e\",\"w\",\"n\",\"s\",\"n\",\"w\",\"e\"])"
   ]
  },
  {
   "cell_type": "code",
   "execution_count": null,
   "metadata": {},
   "outputs": [],
   "source": [
    "is_valid_walk([\"w\",\"s\",\"e\",\"s\",\"w\",\"s\",\"e\",\"w\"])"
   ]
  },
  {
   "cell_type": "code",
   "execution_count": null,
   "metadata": {},
   "outputs": [],
   "source": []
  }
 ],
 "metadata": {
  "kernelspec": {
   "display_name": "Python 3",
   "language": "python",
   "name": "python3"
  },
  "language_info": {
   "codemirror_mode": {
    "name": "ipython",
    "version": 3
   },
   "file_extension": ".py",
   "mimetype": "text/x-python",
   "name": "python",
   "nbconvert_exporter": "python",
   "pygments_lexer": "ipython3",
   "version": "3.8.3"
  }
 },
 "nbformat": 4,
 "nbformat_minor": 4
}
